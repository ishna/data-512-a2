{
 "cells": [
  {
   "cell_type": "code",
   "execution_count": 1,
   "metadata": {},
   "outputs": [],
   "source": [
    "# Loading the Libraries\n",
    "import pandas as pd\n",
    "from ores import api\n",
    "import matplotlib.pyplot as plt"
   ]
  },
  {
   "cell_type": "code",
   "execution_count": 2,
   "metadata": {},
   "outputs": [],
   "source": [
    "# Loading the data files\n",
    "page_data = pd.read_csv(\"page_data.csv\")\n",
    "WPDS_data = pd.read_csv(\"WPDS_2018_data.csv\")"
   ]
  },
  {
   "cell_type": "markdown",
   "metadata": {},
   "source": [
    "## Cleaning the data\n",
    "- In the case of page_data.csv, the dataset contains some page names that start with the string \"Template:\". These pages are not Wikipedia articles, and should not be included in analysis.\n",
    "- WPDS_2018_data contains some rows that provide cumulative regional population counts, rather than country-level counts. These rows are distinguished by having ALL CAPS values in the 'geography' field (e.g. AFRICA, OCEANIA). These rows won't match the country values in page_data, but you will want to retain them (either in the original file, or a separate file) so that you can report coverage and quality by region in the analysis section."
   ]
  },
  {
   "cell_type": "code",
   "execution_count": 3,
   "metadata": {},
   "outputs": [],
   "source": [
    "# Removing the \"template\"\n",
    "page_data_clean = page_data[~page_data.page.str.contains(\"Template\")]"
   ]
  },
  {
   "cell_type": "code",
   "execution_count": 4,
   "metadata": {},
   "outputs": [
    {
     "name": "stdout",
     "output_type": "stream",
     "text": [
      "After Data Cleaning page_data: \n",
      "Rows     :  46701\n",
      "Columns  :  3\n",
      "\n",
      "Features : \n",
      " ['page', 'country', 'rev_id']\n",
      "\n",
      "Missing values :   0\n",
      "\n",
      "Unique values :  \n",
      " page       46701\n",
      "country      219\n",
      "rev_id     46701\n",
      "dtype: int64\n"
     ]
    }
   ],
   "source": [
    "print( \"After Data Cleaning page_data: \")\n",
    "print (\"Rows     : \" ,page_data_clean.shape[0])\n",
    "print (\"Columns  : \" ,page_data_clean.shape[1])\n",
    "print (\"\\nFeatures : \\n\" ,page_data_clean.columns.tolist())\n",
    "print (\"\\nMissing values :  \", page_data_clean.isnull().sum().values.sum())\n",
    "print (\"\\nUnique values :  \\n\",page_data_clean.nunique())"
   ]
  },
  {
   "cell_type": "code",
   "execution_count": 5,
   "metadata": {},
   "outputs": [],
   "source": [
    "#Changing column names\n",
    "WPDS_data = WPDS_data.rename(columns={\"Geography\": \"country\"})"
   ]
  },
  {
   "cell_type": "code",
   "execution_count": 6,
   "metadata": {},
   "outputs": [],
   "source": [
    "# Loading the seperate WPDS file with a new region column which can be accessed as needed\n",
    "WPDS_new = pd.read_csv(\"WPDS_2018_seperate_data.csv\")"
   ]
  },
  {
   "cell_type": "markdown",
   "metadata": {},
   "source": [
    "## Getting article quality predictions\n",
    "- Predicted quality scores for each article in the Wikipedia dataset. We're using a machine learning system called ORES (\"Objective Revision Evaluation Service\"). ORES estimates the quality of an article (at a particular point in time), and assigns a series of probabilities that the article is in one of 6 quality categories."
   ]
  },
  {
   "cell_type": "code",
   "execution_count": 7,
   "metadata": {},
   "outputs": [],
   "source": [
    "# Getting the revision IDs\n",
    "rev_ids = page_data_clean.rev_id.tolist()"
   ]
  },
  {
   "cell_type": "code",
   "execution_count": 8,
   "metadata": {},
   "outputs": [],
   "source": [
    "# pip install ores in your local notebook environment\n",
    "# Send all ~50k articles in the page_data.csv in a single batch \n",
    "\n",
    "ores_session = api.Session(\"https://ores.wikimedia.org\", \"Class project <jmorgan@wikimedia.org>\")\n",
    "results = ores_session.score(\"enwiki\", [\"articlequality\"], rev_ids)\n",
    "probDF = pd.DataFrame()\n",
    "probList = []\n",
    "for prediction, rev_id in zip(results, rev_ids):\n",
    "        if list(prediction['articlequality'].keys()) != ['error']:\n",
    "            temp = pd.DataFrame(prediction['articlequality']['score'])\n",
    "            #print(str(rev_id) + \" \" + str(temp['prediction'][0]))\n",
    "            probList.append([rev_id, temp['prediction'][0]])\n",
    "\n",
    "# Get data in a dataframe            \n",
    "probDF = pd.DataFrame(probList)  "
   ]
  },
  {
   "cell_type": "code",
   "execution_count": 10,
   "metadata": {},
   "outputs": [],
   "source": [
    "# Dataframe with the predictions\n",
    "probDF = probDF.rename(columns={1: \"article_quality\", 0: \"rev_id\"})"
   ]
  },
  {
   "cell_type": "markdown",
   "metadata": {},
   "source": [
    "## Combining the datasets\n",
    "- After retrieving and including the ORES data for each article - merge the wikipedia data and population data together. Both have fields containing country names for just that purpose. \n",
    "- After merging the data, you'll invariably run into entries which cannot be merged. Either the population dataset does not have an entry for the equivalent Wikipedia country, or vis versa.\n",
    "- Any rows that do not have matching data, and output them to a CSV file called wp_wpds_countries-no_match.csv\n",
    "- The remaining data into a single CSV file called wp_wpds_politicians_by_country.csv"
   ]
  },
  {
   "cell_type": "code",
   "execution_count": 12,
   "metadata": {},
   "outputs": [],
   "source": [
    "# Combining the probability from probDF with page_data \n",
    "new_page_data = pd.merge(probDF , page_data_clean, how='left', on=['rev_id'])\n",
    "# Combining WPDS data with the data above\n",
    "combined_data = pd.merge(new_page_data , WPDS_data, how='left', on=['country'])\n",
    "combined_data = combined_data.dropna()"
   ]
  },
  {
   "cell_type": "code",
   "execution_count": 13,
   "metadata": {},
   "outputs": [],
   "source": [
    "# Data we could not find probability for (they did not have a match)\n",
    "def anti_join(x, y, on):\n",
    "    \"\"\"\n",
    "    Anti-join of two data frames. Return rows in x which are not present in y\n",
    "    \"\"\"\n",
    "    ans = pd.merge(left=x, right=y, how='left', indicator=True, on=on)\n",
    "    ans = ans.loc[ans._merge == 'left_only', :].drop(columns='_merge')\n",
    "    return ans\n",
    "\n",
    "# Dataframe with no results\n",
    "no_class = anti_join(WPDS_data, combined_data, ['country'])\n",
    "no_class = no_class.drop([\"rev_id\", \"article_quality\", \"page\", \"Population mid-2018 (millions)_x\", \"Population mid-2018 (millions)_y\"], 1)\n",
    "# Saving these to a CSV file\n",
    "no_class.to_csv('wp_wpds_countries-no_match.csv')"
   ]
  },
  {
   "cell_type": "code",
   "execution_count": 14,
   "metadata": {},
   "outputs": [],
   "source": [
    "# Getting the right format\n",
    "combined_data = combined_data.rename(columns={\"rev_id\": \"revision_id\"})\n",
    "# Saving this to a csv\n",
    "combined_data.to_csv('wp_wpds_politicians_by_country.csv')"
   ]
  },
  {
   "cell_type": "markdown",
   "metadata": {},
   "source": [
    "## Analysis\n",
    "- Analysis will consist of calculating the proportion (as a percentage) of articles-per-population and high-quality articles for each country AND for each geographic region. \n",
    "- By \"high quality\" articles, in this case we mean the number of articles about politicians in a given country that ORES predicted would be in either the \"FA\" (featured article) or \"GA\" (good article) classes."
   ]
  },
  {
   "cell_type": "markdown",
   "metadata": {},
   "source": [
    "### Analysis 1: articles-per-population "
   ]
  },
  {
   "cell_type": "code",
   "execution_count": 15,
   "metadata": {},
   "outputs": [],
   "source": [
    "combined_data_new = combined_data\n",
    "# data frame gives us the frequency of the times a country had an article i.e the number of articles for a country\n",
    "combined_data_new[\"frequency\"] = combined_data_new.groupby('country')[\"country\"].transform('count')\n",
    "# Converting the population column to float value\n",
    "combined_data_new[\"Population mid-2018 (millions)\"] = combined_data_new[\"Population mid-2018 (millions)\"].str.replace(',', '').astype(float)"
   ]
  },
  {
   "cell_type": "code",
   "execution_count": 16,
   "metadata": {},
   "outputs": [],
   "source": [
    "# Finding the articles-per-population-percentage\n",
    "combined_data_new[\"articles-per-population-percentage\"] = ((combined_data_new[\"frequency\"])/(combined_data_new[\"Population mid-2018 (millions)\"]*1000000))*100\n"
   ]
  },
  {
   "cell_type": "code",
   "execution_count": 17,
   "metadata": {},
   "outputs": [],
   "source": [
    "# Dropping rows from the table that we do not need\n",
    "articles_population = combined_data_new.drop([\"revision_id\", \"article_quality\", \"page\", \"frequency\"], 1)\n",
    "# Dropping Duplicates\n",
    "articles_population = articles_population.drop_duplicates(subset=['country'], keep=\"first\")\n",
    "# Dataframe with the articles per population\n",
    "articles_population = articles_population.sort_values('articles-per-population-percentage', ascending=False)"
   ]
  },
  {
   "cell_type": "code",
   "execution_count": 21,
   "metadata": {},
   "outputs": [
    {
     "data": {
      "text/html": [
       "<div>\n",
       "<style scoped>\n",
       "    .dataframe tbody tr th:only-of-type {\n",
       "        vertical-align: middle;\n",
       "    }\n",
       "\n",
       "    .dataframe tbody tr th {\n",
       "        vertical-align: top;\n",
       "    }\n",
       "\n",
       "    .dataframe thead th {\n",
       "        text-align: right;\n",
       "    }\n",
       "</style>\n",
       "<table border=\"1\" class=\"dataframe\">\n",
       "  <thead>\n",
       "    <tr style=\"text-align: right;\">\n",
       "      <th></th>\n",
       "      <th>country</th>\n",
       "      <th>Population mid-2018 (millions)</th>\n",
       "      <th>articles-per-population-percentage</th>\n",
       "    </tr>\n",
       "  </thead>\n",
       "  <tbody>\n",
       "    <tr>\n",
       "      <th>248</th>\n",
       "      <td>Tuvalu</td>\n",
       "      <td>0.01</td>\n",
       "      <td>0.54</td>\n",
       "    </tr>\n",
       "    <tr>\n",
       "      <th>1166</th>\n",
       "      <td>Nauru</td>\n",
       "      <td>0.01</td>\n",
       "      <td>0.52</td>\n",
       "    </tr>\n",
       "    <tr>\n",
       "      <th>87</th>\n",
       "      <td>San Marino</td>\n",
       "      <td>0.03</td>\n",
       "      <td>0.27</td>\n",
       "    </tr>\n",
       "    <tr>\n",
       "      <th>156</th>\n",
       "      <td>Monaco</td>\n",
       "      <td>0.04</td>\n",
       "      <td>0.10</td>\n",
       "    </tr>\n",
       "    <tr>\n",
       "      <th>246</th>\n",
       "      <td>Liechtenstein</td>\n",
       "      <td>0.04</td>\n",
       "      <td>0.07</td>\n",
       "    </tr>\n",
       "  </tbody>\n",
       "</table>\n",
       "</div>"
      ],
      "text/plain": [
       "            country  Population mid-2018 (millions)  \\\n",
       "248          Tuvalu                            0.01   \n",
       "1166          Nauru                            0.01   \n",
       "87       San Marino                            0.03   \n",
       "156          Monaco                            0.04   \n",
       "246   Liechtenstein                            0.04   \n",
       "\n",
       "      articles-per-population-percentage  \n",
       "248                                 0.54  \n",
       "1166                                0.52  \n",
       "87                                  0.27  \n",
       "156                                 0.10  \n",
       "246                                 0.07  "
      ]
     },
     "execution_count": 21,
     "metadata": {},
     "output_type": "execute_result"
    }
   ],
   "source": [
    "articles_population.head()"
   ]
  },
  {
   "cell_type": "markdown",
   "metadata": {},
   "source": [
    "### Analysis 2: high-quality articles\n",
    "- By \"high quality\" articles, in this case we mean the number of articles about politicians in a given country that ORES predicted would be in either the \"FA\" (featured article) or \"GA\" (good article) classes."
   ]
  },
  {
   "cell_type": "code",
   "execution_count": 22,
   "metadata": {},
   "outputs": [],
   "source": [
    "def HQ(x):\n",
    "    \"\"\"\n",
    "    Function to categorise 1 if the prediction is FA or GA, and 0 otherwise\n",
    "    \"\"\"\n",
    "    if \"Stub\" in x:\n",
    "        return 0\n",
    "    elif \"B\" in x:\n",
    "        return 0\n",
    "    elif \"C\" in x:\n",
    "        return 0\n",
    "    elif \"Start\" in x:\n",
    "        return 0\n",
    "    else: return 1\n",
    "\n",
    "# Categorising the data set\n",
    "combined_data_new[\"GA_FA\"] = combined_data_new[\"article_quality\"].apply(HQ)\n",
    "# Keeping only the required rows\n",
    "high_quality = combined_data_new.drop([\"revision_id\", \"article_quality\", \"page\", \"Population mid-2018 (millions)\", \"articles-per-population-percentage\", \"frequency\"], 1)\n",
    "# Removing articles which are not high quality\n",
    "high_quality = high_quality[high_quality.GA_FA != 0]\n",
    "# Dropping the column not needed\n",
    "combined_data_new = combined_data_new.drop([\"GA_FA\"], 1)\n",
    "# Grouping by country to find number of GA and FA per country\n",
    "high_quality = high_quality.groupby(['country']).sum().reset_index()"
   ]
  },
  {
   "cell_type": "code",
   "execution_count": 23,
   "metadata": {},
   "outputs": [
    {
     "data": {
      "text/html": [
       "<div>\n",
       "<style scoped>\n",
       "    .dataframe tbody tr th:only-of-type {\n",
       "        vertical-align: middle;\n",
       "    }\n",
       "\n",
       "    .dataframe tbody tr th {\n",
       "        vertical-align: top;\n",
       "    }\n",
       "\n",
       "    .dataframe thead th {\n",
       "        text-align: right;\n",
       "    }\n",
       "</style>\n",
       "<table border=\"1\" class=\"dataframe\">\n",
       "  <thead>\n",
       "    <tr style=\"text-align: right;\">\n",
       "      <th></th>\n",
       "      <th>country</th>\n",
       "      <th>Population mid-2018 (millions)</th>\n",
       "      <th>high-quality-percentage</th>\n",
       "    </tr>\n",
       "  </thead>\n",
       "  <tbody>\n",
       "    <tr>\n",
       "      <th>20143</th>\n",
       "      <td>Korea, North</td>\n",
       "      <td>25.6</td>\n",
       "      <td>19.444444</td>\n",
       "    </tr>\n",
       "    <tr>\n",
       "      <th>32509</th>\n",
       "      <td>Saudi Arabia</td>\n",
       "      <td>33.4</td>\n",
       "      <td>12.711864</td>\n",
       "    </tr>\n",
       "    <tr>\n",
       "      <th>22589</th>\n",
       "      <td>Mauritania</td>\n",
       "      <td>4.5</td>\n",
       "      <td>12.500000</td>\n",
       "    </tr>\n",
       "    <tr>\n",
       "      <th>7144</th>\n",
       "      <td>Central African Republic</td>\n",
       "      <td>4.7</td>\n",
       "      <td>12.121212</td>\n",
       "    </tr>\n",
       "    <tr>\n",
       "      <th>31185</th>\n",
       "      <td>Romania</td>\n",
       "      <td>19.5</td>\n",
       "      <td>11.370262</td>\n",
       "    </tr>\n",
       "  </tbody>\n",
       "</table>\n",
       "</div>"
      ],
      "text/plain": [
       "                        country  Population mid-2018 (millions)  \\\n",
       "20143              Korea, North                            25.6   \n",
       "32509              Saudi Arabia                            33.4   \n",
       "22589                Mauritania                             4.5   \n",
       "7144   Central African Republic                             4.7   \n",
       "31185                   Romania                            19.5   \n",
       "\n",
       "       high-quality-percentage  \n",
       "20143                19.444444  \n",
       "32509                12.711864  \n",
       "22589                12.500000  \n",
       "7144                 12.121212  \n",
       "31185                11.370262  "
      ]
     },
     "execution_count": 23,
     "metadata": {},
     "output_type": "execute_result"
    }
   ],
   "source": [
    "# Combining this with the data we already have to get the frequency of articles for a country\n",
    "GA_FA_data = pd.merge(high_quality , combined_data_new, how='left', on=['country'])\n",
    "# Finding the percentage of high quality articles = (high quality articles/ total articles)*100\n",
    "GA_FA_data[\"high-quality-percentage\"] = ((GA_FA_data[\"GA_FA\"])/(GA_FA_data[\"frequency\"]))*100\n",
    "# Dropping unnecessary columns and rows\n",
    "GA_FA_data = GA_FA_data.drop([\"GA_FA\", \"revision_id\", \"article_quality\", \"page\", \"articles-per-population-percentage\", \"frequency\"], 1)\n",
    "GA_FA_data = GA_FA_data.drop_duplicates(subset=['country'], keep=\"first\")\n",
    "# Sorting the data\n",
    "GA_FA_data = GA_FA_data.sort_values('high-quality-percentage', ascending=False)\n",
    "\n",
    "GA_FA_data.head()"
   ]
  },
  {
   "cell_type": "code",
   "execution_count": 67,
   "metadata": {},
   "outputs": [],
   "source": [
    "#Saving all data into csv\n",
    "# Creating a file with all data combined\n",
    "final_data = pd.merge(high_quality , combined_data_new, how='left', on=['country'])\n",
    "# adding high_quality column\n",
    "final_data[\"high-quality-percentage\"] = ((final_data[\"GA_FA\"])/(final_data[\"frequency\"]))*100\n",
    "final_data.to_csv(\"Final_combined_data.csv\")"
   ]
  },
  {
   "cell_type": "markdown",
   "metadata": {},
   "source": [
    "### Analysis based on Geographic regions\n"
   ]
  },
  {
   "cell_type": "code",
   "execution_count": 24,
   "metadata": {},
   "outputs": [
    {
     "data": {
      "text/html": [
       "<div>\n",
       "<style scoped>\n",
       "    .dataframe tbody tr th:only-of-type {\n",
       "        vertical-align: middle;\n",
       "    }\n",
       "\n",
       "    .dataframe tbody tr th {\n",
       "        vertical-align: top;\n",
       "    }\n",
       "\n",
       "    .dataframe thead th {\n",
       "        text-align: right;\n",
       "    }\n",
       "</style>\n",
       "<table border=\"1\" class=\"dataframe\">\n",
       "  <thead>\n",
       "    <tr style=\"text-align: right;\">\n",
       "      <th></th>\n",
       "      <th>country</th>\n",
       "      <th>Population mid-2018 (millions)</th>\n",
       "    </tr>\n",
       "  </thead>\n",
       "  <tbody>\n",
       "    <tr>\n",
       "      <th>0</th>\n",
       "      <td>AFRICA</td>\n",
       "      <td>1,284</td>\n",
       "    </tr>\n",
       "    <tr>\n",
       "      <th>56</th>\n",
       "      <td>NORTHERN AMERICA</td>\n",
       "      <td>365</td>\n",
       "    </tr>\n",
       "    <tr>\n",
       "      <th>59</th>\n",
       "      <td>LATIN AMERICA AND THE CARIBBEAN</td>\n",
       "      <td>649</td>\n",
       "    </tr>\n",
       "    <tr>\n",
       "      <th>95</th>\n",
       "      <td>ASIA</td>\n",
       "      <td>4,536</td>\n",
       "    </tr>\n",
       "    <tr>\n",
       "      <th>144</th>\n",
       "      <td>EUROPE</td>\n",
       "      <td>746</td>\n",
       "    </tr>\n",
       "    <tr>\n",
       "      <th>189</th>\n",
       "      <td>OCEANIA</td>\n",
       "      <td>41</td>\n",
       "    </tr>\n",
       "  </tbody>\n",
       "</table>\n",
       "</div>"
      ],
      "text/plain": [
       "                             country Population mid-2018 (millions)\n",
       "0                             AFRICA                          1,284\n",
       "56                  NORTHERN AMERICA                            365\n",
       "59   LATIN AMERICA AND THE CARIBBEAN                            649\n",
       "95                              ASIA                          4,536\n",
       "144                           EUROPE                            746\n",
       "189                          OCEANIA                             41"
      ]
     },
     "execution_count": 24,
     "metadata": {},
     "output_type": "execute_result"
    }
   ],
   "source": [
    "# Let us see what geographic regions we have\n",
    "Geographic_Region = WPDS_data[WPDS_data['country'].str.isupper()]\n",
    "Geographic_Region"
   ]
  },
  {
   "cell_type": "code",
   "execution_count": 25,
   "metadata": {},
   "outputs": [],
   "source": [
    "# Finding indices at which these region names begin to disect data into regions\n",
    "america_index = WPDS_data[WPDS_data['country']==\"NORTHERN AMERICA\"].index.values.astype(int)[0]\n",
    "africa_index = WPDS_data[WPDS_data['country']==\"AFRICA\"].index.values.astype(int)[0]\n",
    "latin_index = WPDS_data[WPDS_data['country']==\"LATIN AMERICA AND THE CARIBBEAN\"].index.values.astype(int)[0]\n",
    "asia_index = WPDS_data[WPDS_data['country']==\"ASIA\"].index.values.astype(int)[0]\n",
    "europe_index = WPDS_data[WPDS_data['country']==\"EUROPE\"].index.values.astype(int)[0]\n",
    "oceania_index = WPDS_data[WPDS_data['country']==\"OCEANIA\"].index.values.astype(int)[0]"
   ]
  },
  {
   "cell_type": "code",
   "execution_count": 26,
   "metadata": {},
   "outputs": [],
   "source": [
    "# Getting data for seperate regions\n",
    "africa_WPDS_data = WPDS_data.iloc[(africa_index+1):america_index,:]\n",
    "america_WPDS_data = WPDS_data.iloc[(america_index+1):latin_index,:]\n",
    "latin_WPDS_data = WPDS_data.iloc[(latin_index+1):asia_index,:]\n",
    "asia_WPDS_data = WPDS_data.iloc[(asia_index+1):europe_index,:]\n",
    "europe_WPDS_data = WPDS_data.iloc[(europe_index+1):oceania_index,:]\n",
    "oceania_WPDS_data = WPDS_data.iloc[(oceania_index+1):,:]"
   ]
  },
  {
   "cell_type": "markdown",
   "metadata": {},
   "source": [
    "### Analysis 3: Geographic Region based articles per population"
   ]
  },
  {
   "cell_type": "markdown",
   "metadata": {},
   "source": [
    "#### AFRICA"
   ]
  },
  {
   "cell_type": "code",
   "execution_count": 27,
   "metadata": {},
   "outputs": [
    {
     "name": "stdout",
     "output_type": "stream",
     "text": [
      "Number of countries in Africa: 55\n"
     ]
    }
   ],
   "source": [
    "print(\"Number of countries in Africa:\", africa_WPDS_data.shape[0])"
   ]
  },
  {
   "cell_type": "code",
   "execution_count": 28,
   "metadata": {},
   "outputs": [
    {
     "name": "stdout",
     "output_type": "stream",
     "text": [
      "Total number of articles published in Africa 6851.0\n"
     ]
    }
   ],
   "source": [
    "# Merging geographical data with total article numbers (frequency)\n",
    "# to get the number of articles in each of these countries\n",
    "africa_combined_data = pd.merge(africa_WPDS_data , combined_data_new, how='left', on=['country'])\n",
    "#Removing columns not required and duplicate rows\n",
    "africa_combined_data = africa_combined_data.drop([\"Population mid-2018 (millions)_y\",\"Population mid-2018 (millions)_x\", \"revision_id\", \"article_quality\", \"page\", \"articles-per-population-percentage\"], 1)\n",
    "africa_combined_data = africa_combined_data.drop_duplicates(subset=['country'], keep=\"first\")\n",
    "\n",
    "# frequency = total number of articles in the country as described above.\n",
    "# We take sum of articles publisdhed by all countries in that geography\n",
    "africa_frequency = africa_combined_data['frequency'].sum()\n",
    "print(\"Total number of articles published in Africa\", africa_frequency)"
   ]
  },
  {
   "cell_type": "markdown",
   "metadata": {},
   "source": [
    "#### NORTHERN AMERICA"
   ]
  },
  {
   "cell_type": "code",
   "execution_count": 29,
   "metadata": {},
   "outputs": [
    {
     "name": "stdout",
     "output_type": "stream",
     "text": [
      "Number of countries in Northern America: 2\n"
     ]
    }
   ],
   "source": [
    "print(\"Number of countries in Northern America:\", america_WPDS_data.shape[0])"
   ]
  },
  {
   "cell_type": "code",
   "execution_count": 30,
   "metadata": {},
   "outputs": [
    {
     "name": "stdout",
     "output_type": "stream",
     "text": [
      "Total number of articles published in america 1921\n"
     ]
    }
   ],
   "source": [
    "# Merging geographical data with total article numbers (frequency)\n",
    "# to get the number of articles in each of these countries\n",
    "america_combined_data = pd.merge(america_WPDS_data , combined_data_new, how='left', on=['country'])\n",
    "#Removing columns not required and duplicate rows\n",
    "america_combined_data = america_combined_data.drop([\"Population mid-2018 (millions)_y\",\"Population mid-2018 (millions)_x\", \"revision_id\", \"article_quality\", \"page\", \"articles-per-population-percentage\"], 1)\n",
    "america_combined_data = america_combined_data.drop_duplicates(subset=['country'], keep=\"first\")\n",
    "\n",
    "# frequency = total number of articles in the country as described above.\n",
    "# We take sum of articles publisdhed by all countries in that geography\n",
    "america_frequency = america_combined_data['frequency'].sum()\n",
    "print(\"Total number of articles published in america\", america_frequency)"
   ]
  },
  {
   "cell_type": "markdown",
   "metadata": {},
   "source": [
    "#### LATIN AMERICA AND THE CARIBBEAN"
   ]
  },
  {
   "cell_type": "code",
   "execution_count": 31,
   "metadata": {},
   "outputs": [
    {
     "name": "stdout",
     "output_type": "stream",
     "text": [
      "Number of countries in LATIN AMERICA AND THE CARIBBEAN: 35\n"
     ]
    }
   ],
   "source": [
    "print(\"Number of countries in LATIN AMERICA AND THE CARIBBEAN:\", latin_WPDS_data.shape[0])"
   ]
  },
  {
   "cell_type": "code",
   "execution_count": 32,
   "metadata": {},
   "outputs": [
    {
     "name": "stdout",
     "output_type": "stream",
     "text": [
      "Total number of articles published in latin 5169.0\n"
     ]
    }
   ],
   "source": [
    "# Merging geographical data with total article numbers (frequency)\n",
    "# to get the number of articles in each of these countries\n",
    "latin_combined_data = pd.merge(latin_WPDS_data , combined_data_new, how='left', on=['country'])\n",
    "#Removing columns not required and duplicate rows\n",
    "latin_combined_data = latin_combined_data.drop([\"Population mid-2018 (millions)_y\",\"Population mid-2018 (millions)_x\", \"revision_id\", \"article_quality\", \"page\", \"articles-per-population-percentage\"], 1)\n",
    "latin_combined_data = latin_combined_data.drop_duplicates(subset=['country'], keep=\"first\")\n",
    "\n",
    "# frequency = total number of articles in the country as described above.\n",
    "# We take sum of articles publisdhed by all countries in that geography\n",
    "latin_frequency = latin_combined_data['frequency'].sum()\n",
    "print(\"Total number of articles published in latin\", latin_frequency)"
   ]
  },
  {
   "cell_type": "markdown",
   "metadata": {},
   "source": [
    "#### ASIA"
   ]
  },
  {
   "cell_type": "code",
   "execution_count": 33,
   "metadata": {},
   "outputs": [
    {
     "name": "stdout",
     "output_type": "stream",
     "text": [
      "Number of countries in ASIA: 48\n"
     ]
    }
   ],
   "source": [
    "print(\"Number of countries in ASIA:\", asia_WPDS_data.shape[0])"
   ]
  },
  {
   "cell_type": "code",
   "execution_count": 34,
   "metadata": {},
   "outputs": [
    {
     "name": "stdout",
     "output_type": "stream",
     "text": [
      "Total number of articles published in asia 11531.0\n"
     ]
    }
   ],
   "source": [
    "# Merging geographical data with total article numbers (frequency)\n",
    "# to get the number of articles in each of these countries\n",
    "asia_combined_data = pd.merge(asia_WPDS_data , combined_data_new, how='left', on=['country'])\n",
    "#Removing columns not required and duplicate rows\n",
    "asia_combined_data = asia_combined_data.drop([\"Population mid-2018 (millions)_y\",\"Population mid-2018 (millions)_x\", \"revision_id\", \"article_quality\", \"page\", \"articles-per-population-percentage\"], 1)\n",
    "asia_combined_data = asia_combined_data.drop_duplicates(subset=['country'], keep=\"first\")\n",
    "\n",
    "# frequency = total number of articles in the country as described above.\n",
    "# We take sum of articles publisdhed by all countries in that geography\n",
    "asia_frequency = asia_combined_data['frequency'].sum()\n",
    "print(\"Total number of articles published in asia\", asia_frequency)"
   ]
  },
  {
   "cell_type": "markdown",
   "metadata": {},
   "source": [
    "#### EUROPE"
   ]
  },
  {
   "cell_type": "code",
   "execution_count": 35,
   "metadata": {},
   "outputs": [
    {
     "name": "stdout",
     "output_type": "stream",
     "text": [
      "Number of countries in Europe: 44\n"
     ]
    }
   ],
   "source": [
    "print(\"Number of countries in Europe:\", europe_WPDS_data.shape[0])"
   ]
  },
  {
   "cell_type": "code",
   "execution_count": 36,
   "metadata": {},
   "outputs": [
    {
     "name": "stdout",
     "output_type": "stream",
     "text": [
      "Total number of articles published in europe 15864.0\n"
     ]
    }
   ],
   "source": [
    "# Merging geographical data with total article numbers (frequency)\n",
    "# to get the number of articles in each of these countries\n",
    "europe_combined_data = pd.merge(europe_WPDS_data , combined_data_new, how='left', on=['country'])\n",
    "#Removing columns not required and duplicate rows\n",
    "europe_combined_data = europe_combined_data.drop([\"Population mid-2018 (millions)_y\",\"Population mid-2018 (millions)_x\", \"revision_id\", \"article_quality\", \"page\", \"articles-per-population-percentage\"], 1)\n",
    "europe_combined_data = europe_combined_data.drop_duplicates(subset=['country'], keep=\"first\")\n",
    "\n",
    "# frequency = total number of articles in the country as described above.\n",
    "# We take sum of articles publisdhed by all countries in that geography\n",
    "europe_frequency = europe_combined_data['frequency'].sum()\n",
    "print(\"Total number of articles published in europe\", europe_frequency)"
   ]
  },
  {
   "cell_type": "markdown",
   "metadata": {},
   "source": [
    "#### OCEANIA"
   ]
  },
  {
   "cell_type": "code",
   "execution_count": 37,
   "metadata": {},
   "outputs": [
    {
     "name": "stdout",
     "output_type": "stream",
     "text": [
      "Number of countries in Oceania: 17\n"
     ]
    }
   ],
   "source": [
    "print(\"Number of countries in Oceania:\", oceania_WPDS_data.shape[0])"
   ]
  },
  {
   "cell_type": "code",
   "execution_count": 38,
   "metadata": {},
   "outputs": [
    {
     "name": "stdout",
     "output_type": "stream",
     "text": [
      "Total number of articles published in oceania 3128.0\n"
     ]
    }
   ],
   "source": [
    "# Merging geographical data with total article numbers (frequency)\n",
    "# to get the number of articles in each of these countries\n",
    "oceania_combined_data = pd.merge(oceania_WPDS_data , combined_data_new, how='left', on=['country'])\n",
    "#Removing columns not required and duplicate rows\n",
    "oceania_combined_data = oceania_combined_data.drop([\"Population mid-2018 (millions)_y\",\"Population mid-2018 (millions)_x\", \"revision_id\", \"article_quality\", \"page\", \"articles-per-population-percentage\"], 1)\n",
    "oceania_combined_data = oceania_combined_data.drop_duplicates(subset=['country'], keep=\"first\")\n",
    "\n",
    "# frequency = total number of articles in the country as described above.\n",
    "# We take sum of articles publisdhed by all countries in that geography\n",
    "oceania_frequency = oceania_combined_data['frequency'].sum()\n",
    "print(\"Total number of articles published in oceania\", oceania_frequency)"
   ]
  },
  {
   "cell_type": "markdown",
   "metadata": {},
   "source": [
    "#### Getting the dataframe together"
   ]
  },
  {
   "cell_type": "code",
   "execution_count": 39,
   "metadata": {},
   "outputs": [
    {
     "name": "stderr",
     "output_type": "stream",
     "text": [
      "/anaconda3/lib/python3.6/site-packages/ipykernel_launcher.py:2: SettingWithCopyWarning: \n",
      "A value is trying to be set on a copy of a slice from a DataFrame.\n",
      "Try using .loc[row_indexer,col_indexer] = value instead\n",
      "\n",
      "See the caveats in the documentation: http://pandas.pydata.org/pandas-docs/stable/indexing.html#indexing-view-versus-copy\n",
      "  \n"
     ]
    }
   ],
   "source": [
    "# Adding the article frequency per country\n",
    "Geographic_Region[\"frequency\"] = [africa_frequency,america_frequency,latin_frequency,asia_frequency,europe_frequency, oceania_frequency]"
   ]
  },
  {
   "cell_type": "code",
   "execution_count": 40,
   "metadata": {},
   "outputs": [
    {
     "name": "stderr",
     "output_type": "stream",
     "text": [
      "/anaconda3/lib/python3.6/site-packages/ipykernel_launcher.py:2: SettingWithCopyWarning: \n",
      "A value is trying to be set on a copy of a slice from a DataFrame.\n",
      "Try using .loc[row_indexer,col_indexer] = value instead\n",
      "\n",
      "See the caveats in the documentation: http://pandas.pydata.org/pandas-docs/stable/indexing.html#indexing-view-versus-copy\n",
      "  \n",
      "/anaconda3/lib/python3.6/site-packages/ipykernel_launcher.py:4: SettingWithCopyWarning: \n",
      "A value is trying to be set on a copy of a slice from a DataFrame.\n",
      "Try using .loc[row_indexer,col_indexer] = value instead\n",
      "\n",
      "See the caveats in the documentation: http://pandas.pydata.org/pandas-docs/stable/indexing.html#indexing-view-versus-copy\n",
      "  after removing the cwd from sys.path.\n"
     ]
    }
   ],
   "source": [
    "# Converting the population column to float value\n",
    "Geographic_Region[\"Population mid-2018 (millions)\"] = Geographic_Region[\"Population mid-2018 (millions)\"].str.replace(',', '').astype(float)\n",
    "# Calculating the articles by population percentage\n",
    "Geographic_Region[\"articles-per-population-percentage\"] = ((Geographic_Region[\"frequency\"])/(Geographic_Region[\"Population mid-2018 (millions)\"]*1000000))*100\n",
    "\n"
   ]
  },
  {
   "cell_type": "markdown",
   "metadata": {},
   "source": [
    "### Analysis 4: Geographical region high quality article analysis"
   ]
  },
  {
   "cell_type": "markdown",
   "metadata": {},
   "source": [
    "#### Africa"
   ]
  },
  {
   "cell_type": "code",
   "execution_count": 41,
   "metadata": {},
   "outputs": [
    {
     "name": "stdout",
     "output_type": "stream",
     "text": [
      "FA GA article percentage: 1.824551160414538\n"
     ]
    }
   ],
   "source": [
    "# merging geography specific data with the data frame \"high_quality\" to get the frequency of FA and GA articles\n",
    "africa_quality_data = pd.merge(africa_WPDS_data , high_quality, how='left', on=['country'])\n",
    "\n",
    "# merging this data with the dataframe to get the frequency or number of articles published by each country\n",
    "africa_quality_data = pd.merge(africa_quality_data , combined_data_new, how='left', on=['country'])\n",
    "\n",
    "# removing unwanted rows and columns\n",
    "africa_quality_data = africa_quality_data.drop([\"Population mid-2018 (millions)_y\",\"Population mid-2018 (millions)_x\", \"revision_id\", \"article_quality\", \"page\", \"articles-per-population-percentage\"], 1)\n",
    "africa_quality_data = africa_quality_data.drop_duplicates(subset=['country'], keep=\"first\")\n",
    "\n",
    "# Total FA and GA articles in all geography specific countries\n",
    "africa_FA_GA = africa_quality_data['GA_FA'].sum()\n",
    "\n",
    "# Total articles in all geography specific countries\n",
    "africa_frequency = africa_quality_data['frequency'].sum()\n",
    "\n",
    "# The percentage of high quality articles in the geography\n",
    "africa_high_quality = (africa_FA_GA/africa_frequency)*100\n",
    "\n",
    "print(\"FA GA article percentage:\", africa_high_quality)"
   ]
  },
  {
   "cell_type": "markdown",
   "metadata": {},
   "source": [
    "#### Northern America"
   ]
  },
  {
   "cell_type": "code",
   "execution_count": 42,
   "metadata": {},
   "outputs": [
    {
     "name": "stdout",
     "output_type": "stream",
     "text": [
      "FA GA article percentage: 5.153565851119208\n"
     ]
    }
   ],
   "source": [
    "# merging geography specific data with the data frame \"high_quality\" to get the frequency of FA and GA articles\n",
    "america_quality_data = pd.merge(america_WPDS_data , high_quality, how='left', on=['country'])\n",
    "\n",
    "# merging this data with the dataframe to get the frequency or number of articles published by each country\n",
    "america_quality_data = pd.merge(america_quality_data , combined_data_new, how='left', on=['country'])\n",
    "\n",
    "# removing unwanted rows and columns\n",
    "america_quality_data = america_quality_data.drop([\"Population mid-2018 (millions)_y\",\"Population mid-2018 (millions)_x\", \"revision_id\", \"article_quality\", \"page\", \"articles-per-population-percentage\"], 1)\n",
    "america_quality_data = america_quality_data.drop_duplicates(subset=['country'], keep=\"first\")\n",
    "\n",
    "# Total FA and GA articles in all geography specific countries\n",
    "america_FA_GA = america_quality_data['GA_FA'].sum()\n",
    "\n",
    "# Total articles in all geography specific countries\n",
    "america_frequency = america_quality_data['frequency'].sum()\n",
    "\n",
    "# The percentage of high quality articles in the geography\n",
    "america_high_quality = (america_FA_GA/america_frequency)*100\n",
    "\n",
    "print(\"FA GA article percentage:\", america_high_quality)"
   ]
  },
  {
   "cell_type": "markdown",
   "metadata": {},
   "source": [
    "#### Latin America and Caribbean islands "
   ]
  },
  {
   "cell_type": "code",
   "execution_count": 43,
   "metadata": {},
   "outputs": [
    {
     "name": "stdout",
     "output_type": "stream",
     "text": [
      "FA GA article percentage: 1.3348810214741729\n"
     ]
    }
   ],
   "source": [
    "# merging geography specific data with the data frame \"high_quality\" to get the frequency of FA and GA articles\n",
    "latin_quality_data = pd.merge(latin_WPDS_data , high_quality, how='left', on=['country'])\n",
    "\n",
    "# merging this data with the dataframe to get the frequency or number of articles published by each country\n",
    "latin_quality_data = pd.merge(latin_quality_data , combined_data_new, how='left', on=['country'])\n",
    "\n",
    "# removing unwanted rows and columns\n",
    "latin_quality_data = latin_quality_data.drop([\"Population mid-2018 (millions)_y\",\"Population mid-2018 (millions)_x\", \"revision_id\", \"article_quality\", \"page\", \"articles-per-population-percentage\"], 1)\n",
    "latin_quality_data = latin_quality_data.drop_duplicates(subset=['country'], keep=\"first\")\n",
    "\n",
    "# Total FA and GA articles in all geography specific countries\n",
    "latin_FA_GA = latin_quality_data['GA_FA'].sum()\n",
    "\n",
    "# Total articles in all geography specific countries\n",
    "latin_frequency = latin_quality_data['frequency'].sum()\n",
    "\n",
    "# The percentage of high quality articles in the geography\n",
    "latin_high_quality = (latin_FA_GA/latin_frequency)*100\n",
    "\n",
    "print(\"FA GA article percentage:\", latin_high_quality)"
   ]
  },
  {
   "cell_type": "markdown",
   "metadata": {},
   "source": [
    "#### Asia"
   ]
  },
  {
   "cell_type": "code",
   "execution_count": 44,
   "metadata": {},
   "outputs": [
    {
     "name": "stdout",
     "output_type": "stream",
     "text": [
      "FA GA article percentage: 2.688405168675744\n"
     ]
    }
   ],
   "source": [
    "# merging geography specific data with the data frame \"high_quality\" to get the frequency of FA and GA articles\n",
    "asia_quality_data = pd.merge(asia_WPDS_data , high_quality, how='left', on=['country'])\n",
    "\n",
    "# merging this data with the dataframe to get the frequency or number of articles published by each country\n",
    "asia_quality_data = pd.merge(asia_quality_data , combined_data_new, how='left', on=['country'])\n",
    "\n",
    "# removing unwanted rows and columns\n",
    "asia_quality_data = asia_quality_data.drop([\"Population mid-2018 (millions)_y\",\"Population mid-2018 (millions)_x\", \"revision_id\", \"article_quality\", \"page\", \"articles-per-population-percentage\"], 1)\n",
    "asia_quality_data = asia_quality_data.drop_duplicates(subset=['country'], keep=\"first\")\n",
    "\n",
    "# Total FA and GA articles in all geography specific countries\n",
    "asia_FA_GA = asia_quality_data['GA_FA'].sum()\n",
    "\n",
    "# Total articles in all geography specific countries\n",
    "asia_frequency = asia_quality_data['frequency'].sum()\n",
    "\n",
    "# The percentage of high quality articles in the geography\n",
    "asia_high_quality = (asia_FA_GA/asia_frequency)*100\n",
    "\n",
    "print(\"FA GA article percentage:\", asia_high_quality)"
   ]
  },
  {
   "cell_type": "markdown",
   "metadata": {},
   "source": [
    "#### Europe"
   ]
  },
  {
   "cell_type": "code",
   "execution_count": 45,
   "metadata": {},
   "outputs": [
    {
     "name": "stdout",
     "output_type": "stream",
     "text": [
      "FA GA article percentage: 2.0297528996469993\n"
     ]
    }
   ],
   "source": [
    "# merging geography specific data with the data frame \"high_quality\" to get the frequency of FA and GA articles\n",
    "europe_quality_data = pd.merge(europe_WPDS_data , high_quality, how='left', on=['country'])\n",
    "\n",
    "# merging this data with the dataframe to get the frequency or number of articles published by each country\n",
    "europe_quality_data = pd.merge(europe_quality_data , combined_data_new, how='left', on=['country'])\n",
    "\n",
    "# removing unwanted rows and columns\n",
    "europe_quality_data = europe_quality_data.drop([\"Population mid-2018 (millions)_y\",\"Population mid-2018 (millions)_x\", \"revision_id\", \"article_quality\", \"page\", \"articles-per-population-percentage\"], 1)\n",
    "europe_quality_data = europe_quality_data.drop_duplicates(subset=['country'], keep=\"first\")\n",
    "\n",
    "# Total FA and GA articles in all geography specific countries\n",
    "europe_FA_GA = europe_quality_data['GA_FA'].sum()\n",
    "\n",
    "# Total articles in all geography specific countries\n",
    "europe_frequency = europe_quality_data['frequency'].sum()\n",
    "\n",
    "# The percentage of high quality articles in the geography\n",
    "europe_high_quality = (europe_FA_GA/europe_frequency)*100\n",
    "\n",
    "print(\"FA GA article percentage:\", europe_high_quality)"
   ]
  },
  {
   "cell_type": "markdown",
   "metadata": {},
   "source": [
    "#### Oceania"
   ]
  },
  {
   "cell_type": "code",
   "execution_count": 46,
   "metadata": {},
   "outputs": [
    {
     "name": "stdout",
     "output_type": "stream",
     "text": [
      "FA GA article percentage: 2.1099744245524295\n"
     ]
    }
   ],
   "source": [
    "# merging geography specific data with the data frame \"high_quality\" to get the frequency of FA and GA articles\n",
    "oceania_quality_data = pd.merge(oceania_WPDS_data , high_quality, how='left', on=['country'])\n",
    "\n",
    "# merging this data with the dataframe to get the frequency or number of articles published by each country\n",
    "oceania_quality_data = pd.merge(oceania_quality_data , combined_data_new, how='left', on=['country'])\n",
    "\n",
    "# removing unwanted rows and columns\n",
    "oceania_quality_data = oceania_quality_data.drop([\"Population mid-2018 (millions)_y\",\"Population mid-2018 (millions)_x\", \"revision_id\", \"article_quality\", \"page\", \"articles-per-population-percentage\"], 1)\n",
    "oceania_quality_data = oceania_quality_data.drop_duplicates(subset=['country'], keep=\"first\")\n",
    "\n",
    "# Total FA and GA articles in all geography specific countries\n",
    "oceania_FA_GA = oceania_quality_data['GA_FA'].sum()\n",
    "\n",
    "# Total articles in all geography specific countries\n",
    "oceania_frequency = oceania_quality_data['frequency'].sum()\n",
    "\n",
    "# The percentage of high quality articles in the geography\n",
    "oceania_high_quality = (oceania_FA_GA/oceania_frequency)*100\n",
    "\n",
    "print(\"FA GA article percentage:\", oceania_high_quality)"
   ]
  },
  {
   "cell_type": "markdown",
   "metadata": {},
   "source": [
    "#### Merging Results to a dataframe"
   ]
  },
  {
   "cell_type": "code",
   "execution_count": 47,
   "metadata": {},
   "outputs": [
    {
     "name": "stderr",
     "output_type": "stream",
     "text": [
      "/anaconda3/lib/python3.6/site-packages/ipykernel_launcher.py:1: SettingWithCopyWarning: \n",
      "A value is trying to be set on a copy of a slice from a DataFrame.\n",
      "Try using .loc[row_indexer,col_indexer] = value instead\n",
      "\n",
      "See the caveats in the documentation: http://pandas.pydata.org/pandas-docs/stable/indexing.html#indexing-view-versus-copy\n",
      "  \"\"\"Entry point for launching an IPython kernel.\n",
      "/anaconda3/lib/python3.6/site-packages/ipykernel_launcher.py:3: SettingWithCopyWarning: \n",
      "A value is trying to be set on a copy of a slice from a DataFrame.\n",
      "Try using .loc[row_indexer,col_indexer] = value instead\n",
      "\n",
      "See the caveats in the documentation: http://pandas.pydata.org/pandas-docs/stable/indexing.html#indexing-view-versus-copy\n",
      "  This is separate from the ipykernel package so we can avoid doing imports until\n"
     ]
    }
   ],
   "source": [
    "Geographic_Region[\"FA_GA_total\"] = [africa_high_quality, america_high_quality, latin_high_quality, asia_high_quality, europe_high_quality, oceania_high_quality]\n",
    "# Calculating high quality article percentage\n",
    "Geographic_Region[\"high-quality-percentage\"] = ((Geographic_Region[\"FA_GA_total\"])/(Geographic_Region[\"frequency\"]))*100\n",
    "Geographic_Region = Geographic_Region.drop([\"frequency\", \"FA_GA_total\"], 1)\n"
   ]
  },
  {
   "cell_type": "markdown",
   "metadata": {},
   "source": [
    "## Results"
   ]
  },
  {
   "cell_type": "markdown",
   "metadata": {},
   "source": [
    "### Table 1: Top 10 countries by coverage: 10 highest-ranked countries in terms of number of politician articles as a proportion of country population"
   ]
  },
  {
   "cell_type": "code",
   "execution_count": 48,
   "metadata": {},
   "outputs": [],
   "source": [
    "top_10_art_per_pop = articles_population.head(10)"
   ]
  },
  {
   "cell_type": "code",
   "execution_count": 49,
   "metadata": {},
   "outputs": [
    {
     "data": {
      "text/html": [
       "<div>\n",
       "<style scoped>\n",
       "    .dataframe tbody tr th:only-of-type {\n",
       "        vertical-align: middle;\n",
       "    }\n",
       "\n",
       "    .dataframe tbody tr th {\n",
       "        vertical-align: top;\n",
       "    }\n",
       "\n",
       "    .dataframe thead th {\n",
       "        text-align: right;\n",
       "    }\n",
       "</style>\n",
       "<table border=\"1\" class=\"dataframe\">\n",
       "  <thead>\n",
       "    <tr style=\"text-align: right;\">\n",
       "      <th></th>\n",
       "      <th>country</th>\n",
       "      <th>Population mid-2018 (millions)</th>\n",
       "      <th>articles-per-population-percentage</th>\n",
       "    </tr>\n",
       "  </thead>\n",
       "  <tbody>\n",
       "    <tr>\n",
       "      <th>248</th>\n",
       "      <td>Tuvalu</td>\n",
       "      <td>0.01</td>\n",
       "      <td>0.540000</td>\n",
       "    </tr>\n",
       "    <tr>\n",
       "      <th>1166</th>\n",
       "      <td>Nauru</td>\n",
       "      <td>0.01</td>\n",
       "      <td>0.520000</td>\n",
       "    </tr>\n",
       "    <tr>\n",
       "      <th>87</th>\n",
       "      <td>San Marino</td>\n",
       "      <td>0.03</td>\n",
       "      <td>0.270000</td>\n",
       "    </tr>\n",
       "    <tr>\n",
       "      <th>156</th>\n",
       "      <td>Monaco</td>\n",
       "      <td>0.04</td>\n",
       "      <td>0.100000</td>\n",
       "    </tr>\n",
       "    <tr>\n",
       "      <th>246</th>\n",
       "      <td>Liechtenstein</td>\n",
       "      <td>0.04</td>\n",
       "      <td>0.070000</td>\n",
       "    </tr>\n",
       "    <tr>\n",
       "      <th>211</th>\n",
       "      <td>Tonga</td>\n",
       "      <td>0.10</td>\n",
       "      <td>0.063000</td>\n",
       "    </tr>\n",
       "    <tr>\n",
       "      <th>275</th>\n",
       "      <td>Marshall Islands</td>\n",
       "      <td>0.06</td>\n",
       "      <td>0.061667</td>\n",
       "    </tr>\n",
       "    <tr>\n",
       "      <th>164</th>\n",
       "      <td>Iceland</td>\n",
       "      <td>0.40</td>\n",
       "      <td>0.050250</td>\n",
       "    </tr>\n",
       "    <tr>\n",
       "      <th>2961</th>\n",
       "      <td>Andorra</td>\n",
       "      <td>0.08</td>\n",
       "      <td>0.042500</td>\n",
       "    </tr>\n",
       "    <tr>\n",
       "      <th>189</th>\n",
       "      <td>Grenada</td>\n",
       "      <td>0.10</td>\n",
       "      <td>0.036000</td>\n",
       "    </tr>\n",
       "  </tbody>\n",
       "</table>\n",
       "</div>"
      ],
      "text/plain": [
       "               country  Population mid-2018 (millions)  \\\n",
       "248             Tuvalu                            0.01   \n",
       "1166             Nauru                            0.01   \n",
       "87          San Marino                            0.03   \n",
       "156             Monaco                            0.04   \n",
       "246      Liechtenstein                            0.04   \n",
       "211              Tonga                            0.10   \n",
       "275   Marshall Islands                            0.06   \n",
       "164            Iceland                            0.40   \n",
       "2961           Andorra                            0.08   \n",
       "189            Grenada                            0.10   \n",
       "\n",
       "      articles-per-population-percentage  \n",
       "248                             0.540000  \n",
       "1166                            0.520000  \n",
       "87                              0.270000  \n",
       "156                             0.100000  \n",
       "246                             0.070000  \n",
       "211                             0.063000  \n",
       "275                             0.061667  \n",
       "164                             0.050250  \n",
       "2961                            0.042500  \n",
       "189                             0.036000  "
      ]
     },
     "execution_count": 49,
     "metadata": {},
     "output_type": "execute_result"
    }
   ],
   "source": [
    "top_10_art_per_pop"
   ]
  },
  {
   "cell_type": "code",
   "execution_count": 50,
   "metadata": {},
   "outputs": [
    {
     "data": {
      "image/png": "[encoded data removed]",
      "text/plain": [
       "<Figure size 720x720 with 2 Axes>"
      ]
     },
     "metadata": {},
     "output_type": "display_data"
    },
    {
     "data": {
      "image/png": "[encoded data removed]",
      "text/plain": [
       "<Figure size 720x720 with 2 Axes>"
      ]
     },
     "metadata": {},
     "output_type": "display_data"
    }
   ],
   "source": [
    "top_10_art_per_pop.plot.bar(x='country', y='articles-per-population-percentage', rot=45, subplots=True, layout=(2,1), figsize=(10,10))\n",
    "top_10_art_per_pop.plot.bar(x='country', y='Population mid-2018 (millions)', rot=45, subplots=True, layout=(2,1), figsize=(10,10))\n",
    "plt.show()"
   ]
  },
  {
   "cell_type": "markdown",
   "metadata": {},
   "source": [
    "### Table 2: Bottom 10 countries by coverage: 10 lowest-ranked countries in terms of number of politician articles as a proportion of country population"
   ]
  },
  {
   "cell_type": "code",
   "execution_count": 51,
   "metadata": {},
   "outputs": [],
   "source": [
    "bottom_10_art_per_pop = articles_population.tail(10)"
   ]
  },
  {
   "cell_type": "code",
   "execution_count": 52,
   "metadata": {},
   "outputs": [
    {
     "data": {
      "text/html": [
       "<div>\n",
       "<style scoped>\n",
       "    .dataframe tbody tr th:only-of-type {\n",
       "        vertical-align: middle;\n",
       "    }\n",
       "\n",
       "    .dataframe tbody tr th {\n",
       "        vertical-align: top;\n",
       "    }\n",
       "\n",
       "    .dataframe thead th {\n",
       "        text-align: right;\n",
       "    }\n",
       "</style>\n",
       "<table border=\"1\" class=\"dataframe\">\n",
       "  <thead>\n",
       "    <tr style=\"text-align: right;\">\n",
       "      <th></th>\n",
       "      <th>country</th>\n",
       "      <th>Population mid-2018 (millions)</th>\n",
       "      <th>articles-per-population-percentage</th>\n",
       "    </tr>\n",
       "  </thead>\n",
       "  <tbody>\n",
       "    <tr>\n",
       "      <th>340</th>\n",
       "      <td>Bangladesh</td>\n",
       "      <td>166.4</td>\n",
       "      <td>0.000192</td>\n",
       "    </tr>\n",
       "    <tr>\n",
       "      <th>439</th>\n",
       "      <td>Mozambique</td>\n",
       "      <td>30.5</td>\n",
       "      <td>0.000190</td>\n",
       "    </tr>\n",
       "    <tr>\n",
       "      <th>530</th>\n",
       "      <td>Thailand</td>\n",
       "      <td>66.2</td>\n",
       "      <td>0.000169</td>\n",
       "    </tr>\n",
       "    <tr>\n",
       "      <th>12505</th>\n",
       "      <td>Zambia</td>\n",
       "      <td>17.7</td>\n",
       "      <td>0.000141</td>\n",
       "    </tr>\n",
       "    <tr>\n",
       "      <th>2234</th>\n",
       "      <td>Korea, North</td>\n",
       "      <td>25.6</td>\n",
       "      <td>0.000141</td>\n",
       "    </tr>\n",
       "    <tr>\n",
       "      <th>287</th>\n",
       "      <td>Ethiopia</td>\n",
       "      <td>107.5</td>\n",
       "      <td>0.000094</td>\n",
       "    </tr>\n",
       "    <tr>\n",
       "      <th>1168</th>\n",
       "      <td>Uzbekistan</td>\n",
       "      <td>32.9</td>\n",
       "      <td>0.000085</td>\n",
       "    </tr>\n",
       "    <tr>\n",
       "      <th>38</th>\n",
       "      <td>China</td>\n",
       "      <td>1393.8</td>\n",
       "      <td>0.000081</td>\n",
       "    </tr>\n",
       "    <tr>\n",
       "      <th>139</th>\n",
       "      <td>Indonesia</td>\n",
       "      <td>265.2</td>\n",
       "      <td>0.000079</td>\n",
       "    </tr>\n",
       "    <tr>\n",
       "      <th>10</th>\n",
       "      <td>India</td>\n",
       "      <td>1371.3</td>\n",
       "      <td>0.000071</td>\n",
       "    </tr>\n",
       "  </tbody>\n",
       "</table>\n",
       "</div>"
      ],
      "text/plain": [
       "            country  Population mid-2018 (millions)  \\\n",
       "340      Bangladesh                           166.4   \n",
       "439      Mozambique                            30.5   \n",
       "530        Thailand                            66.2   \n",
       "12505        Zambia                            17.7   \n",
       "2234   Korea, North                            25.6   \n",
       "287        Ethiopia                           107.5   \n",
       "1168     Uzbekistan                            32.9   \n",
       "38            China                          1393.8   \n",
       "139       Indonesia                           265.2   \n",
       "10            India                          1371.3   \n",
       "\n",
       "       articles-per-population-percentage  \n",
       "340                              0.000192  \n",
       "439                              0.000190  \n",
       "530                              0.000169  \n",
       "12505                            0.000141  \n",
       "2234                             0.000141  \n",
       "287                              0.000094  \n",
       "1168                             0.000085  \n",
       "38                               0.000081  \n",
       "139                              0.000079  \n",
       "10                               0.000071  "
      ]
     },
     "execution_count": 52,
     "metadata": {},
     "output_type": "execute_result"
    }
   ],
   "source": [
    "bottom_10_art_per_pop"
   ]
  },
  {
   "cell_type": "code",
   "execution_count": 53,
   "metadata": {},
   "outputs": [
    {
     "data": {
      "image/png": "[encoded data removed]",
      "text/plain": [
       "<Figure size 720x720 with 2 Axes>"
      ]
     },
     "metadata": {},
     "output_type": "display_data"
    },
    {
     "data": {
      "image/png": "[encoded data removed]",
      "text/plain": [
       "<Figure size 720x720 with 2 Axes>"
      ]
     },
     "metadata": {},
     "output_type": "display_data"
    }
   ],
   "source": [
    "bottom_10_art_per_pop.plot.bar(x='country', y='articles-per-population-percentage', rot=45, subplots=True, layout=(2,1), figsize=(10,10))\n",
    "bottom_10_art_per_pop.plot.bar(x='country', y='Population mid-2018 (millions)', rot=45, subplots=True, layout=(2,1), figsize=(10,10))\n",
    "plt.show()"
   ]
  },
  {
   "cell_type": "markdown",
   "metadata": {},
   "source": [
    "### Table 3: Top 10 countries by relative quality: 10 highest-ranked countries in terms of the relative proportion of politician articles that are of GA and FA-quality"
   ]
  },
  {
   "cell_type": "code",
   "execution_count": 54,
   "metadata": {},
   "outputs": [],
   "source": [
    "top_10_high_quality = GA_FA_data.head(10)"
   ]
  },
  {
   "cell_type": "code",
   "execution_count": 55,
   "metadata": {},
   "outputs": [
    {
     "data": {
      "text/html": [
       "<div>\n",
       "<style scoped>\n",
       "    .dataframe tbody tr th:only-of-type {\n",
       "        vertical-align: middle;\n",
       "    }\n",
       "\n",
       "    .dataframe tbody tr th {\n",
       "        vertical-align: top;\n",
       "    }\n",
       "\n",
       "    .dataframe thead th {\n",
       "        text-align: right;\n",
       "    }\n",
       "</style>\n",
       "<table border=\"1\" class=\"dataframe\">\n",
       "  <thead>\n",
       "    <tr style=\"text-align: right;\">\n",
       "      <th></th>\n",
       "      <th>country</th>\n",
       "      <th>Population mid-2018 (millions)</th>\n",
       "      <th>high-quality-percentage</th>\n",
       "    </tr>\n",
       "  </thead>\n",
       "  <tbody>\n",
       "    <tr>\n",
       "      <th>20143</th>\n",
       "      <td>Korea, North</td>\n",
       "      <td>25.60</td>\n",
       "      <td>19.444444</td>\n",
       "    </tr>\n",
       "    <tr>\n",
       "      <th>32509</th>\n",
       "      <td>Saudi Arabia</td>\n",
       "      <td>33.40</td>\n",
       "      <td>12.711864</td>\n",
       "    </tr>\n",
       "    <tr>\n",
       "      <th>22589</th>\n",
       "      <td>Mauritania</td>\n",
       "      <td>4.50</td>\n",
       "      <td>12.500000</td>\n",
       "    </tr>\n",
       "    <tr>\n",
       "      <th>7144</th>\n",
       "      <td>Central African Republic</td>\n",
       "      <td>4.70</td>\n",
       "      <td>12.121212</td>\n",
       "    </tr>\n",
       "    <tr>\n",
       "      <th>31185</th>\n",
       "      <td>Romania</td>\n",
       "      <td>19.50</td>\n",
       "      <td>11.370262</td>\n",
       "    </tr>\n",
       "    <tr>\n",
       "      <th>37883</th>\n",
       "      <td>Tuvalu</td>\n",
       "      <td>0.01</td>\n",
       "      <td>9.259259</td>\n",
       "    </tr>\n",
       "    <tr>\n",
       "      <th>4696</th>\n",
       "      <td>Bhutan</td>\n",
       "      <td>0.80</td>\n",
       "      <td>9.090909</td>\n",
       "    </tr>\n",
       "    <tr>\n",
       "      <th>9937</th>\n",
       "      <td>Dominica</td>\n",
       "      <td>0.07</td>\n",
       "      <td>8.333333</td>\n",
       "    </tr>\n",
       "    <tr>\n",
       "      <th>36259</th>\n",
       "      <td>Syria</td>\n",
       "      <td>18.30</td>\n",
       "      <td>7.812500</td>\n",
       "    </tr>\n",
       "    <tr>\n",
       "      <th>4605</th>\n",
       "      <td>Benin</td>\n",
       "      <td>11.50</td>\n",
       "      <td>7.692308</td>\n",
       "    </tr>\n",
       "  </tbody>\n",
       "</table>\n",
       "</div>"
      ],
      "text/plain": [
       "                        country  Population mid-2018 (millions)  \\\n",
       "20143              Korea, North                           25.60   \n",
       "32509              Saudi Arabia                           33.40   \n",
       "22589                Mauritania                            4.50   \n",
       "7144   Central African Republic                            4.70   \n",
       "31185                   Romania                           19.50   \n",
       "37883                    Tuvalu                            0.01   \n",
       "4696                     Bhutan                            0.80   \n",
       "9937                   Dominica                            0.07   \n",
       "36259                     Syria                           18.30   \n",
       "4605                      Benin                           11.50   \n",
       "\n",
       "       high-quality-percentage  \n",
       "20143                19.444444  \n",
       "32509                12.711864  \n",
       "22589                12.500000  \n",
       "7144                 12.121212  \n",
       "31185                11.370262  \n",
       "37883                 9.259259  \n",
       "4696                  9.090909  \n",
       "9937                  8.333333  \n",
       "36259                 7.812500  \n",
       "4605                  7.692308  "
      ]
     },
     "execution_count": 55,
     "metadata": {},
     "output_type": "execute_result"
    }
   ],
   "source": [
    "top_10_high_quality"
   ]
  },
  {
   "cell_type": "code",
   "execution_count": 56,
   "metadata": {},
   "outputs": [
    {
     "data": {
      "image/png": "[encoded data removed]",
      "text/plain": [
       "<Figure size 720x720 with 2 Axes>"
      ]
     },
     "metadata": {},
     "output_type": "display_data"
    },
    {
     "data": {
      "image/png": "[encoded data removed]",
      "text/plain": [
       "<Figure size 720x720 with 2 Axes>"
      ]
     },
     "metadata": {},
     "output_type": "display_data"
    }
   ],
   "source": [
    "top_10_high_quality.plot.bar(x='country', y='high-quality-percentage', rot=45, subplots=True, layout=(2,1), figsize=(10,10))\n",
    "top_10_high_quality.plot.bar(x='country', y='Population mid-2018 (millions)', rot=45, subplots=True, layout=(2,1), figsize=(10,10))\n",
    "plt.show()"
   ]
  },
  {
   "cell_type": "markdown",
   "metadata": {},
   "source": [
    "### Table 4: Bottom 10 countries by relative quality: 10 lowest-ranked countries in terms of the relative proportion of politician articles that are of GA and FA-quality"
   ]
  },
  {
   "cell_type": "code",
   "execution_count": 57,
   "metadata": {},
   "outputs": [],
   "source": [
    "bottom_10_high_quality = GA_FA_data.tail(10)"
   ]
  },
  {
   "cell_type": "code",
   "execution_count": 58,
   "metadata": {},
   "outputs": [
    {
     "data": {
      "text/html": [
       "<div>\n",
       "<style scoped>\n",
       "    .dataframe tbody tr th:only-of-type {\n",
       "        vertical-align: middle;\n",
       "    }\n",
       "\n",
       "    .dataframe tbody tr th {\n",
       "        vertical-align: top;\n",
       "    }\n",
       "\n",
       "    .dataframe thead th {\n",
       "        text-align: right;\n",
       "    }\n",
       "</style>\n",
       "<table border=\"1\" class=\"dataframe\">\n",
       "  <thead>\n",
       "    <tr style=\"text-align: right;\">\n",
       "      <th></th>\n",
       "      <th>country</th>\n",
       "      <th>Population mid-2018 (millions)</th>\n",
       "      <th>high-quality-percentage</th>\n",
       "    </tr>\n",
       "  </thead>\n",
       "  <tbody>\n",
       "    <tr>\n",
       "      <th>3473</th>\n",
       "      <td>Azerbaijan</td>\n",
       "      <td>9.9</td>\n",
       "      <td>0.558659</td>\n",
       "    </tr>\n",
       "    <tr>\n",
       "      <th>10562</th>\n",
       "      <td>Fiji</td>\n",
       "      <td>0.9</td>\n",
       "      <td>0.507614</td>\n",
       "    </tr>\n",
       "    <tr>\n",
       "      <th>21225</th>\n",
       "      <td>Lithuania</td>\n",
       "      <td>2.8</td>\n",
       "      <td>0.409836</td>\n",
       "    </tr>\n",
       "    <tr>\n",
       "      <th>8785</th>\n",
       "      <td>Colombia</td>\n",
       "      <td>49.8</td>\n",
       "      <td>0.350877</td>\n",
       "    </tr>\n",
       "    <tr>\n",
       "      <th>26415</th>\n",
       "      <td>Nigeria</td>\n",
       "      <td>195.9</td>\n",
       "      <td>0.295421</td>\n",
       "    </tr>\n",
       "    <tr>\n",
       "      <th>29185</th>\n",
       "      <td>Peru</td>\n",
       "      <td>32.2</td>\n",
       "      <td>0.285714</td>\n",
       "    </tr>\n",
       "    <tr>\n",
       "      <th>24385</th>\n",
       "      <td>Nepal</td>\n",
       "      <td>29.7</td>\n",
       "      <td>0.280112</td>\n",
       "    </tr>\n",
       "    <tr>\n",
       "      <th>35857</th>\n",
       "      <td>Switzerland</td>\n",
       "      <td>8.5</td>\n",
       "      <td>0.248756</td>\n",
       "    </tr>\n",
       "    <tr>\n",
       "      <th>36925</th>\n",
       "      <td>Tanzania</td>\n",
       "      <td>59.1</td>\n",
       "      <td>0.246914</td>\n",
       "    </tr>\n",
       "    <tr>\n",
       "      <th>4085</th>\n",
       "      <td>Belgium</td>\n",
       "      <td>11.4</td>\n",
       "      <td>0.192308</td>\n",
       "    </tr>\n",
       "  </tbody>\n",
       "</table>\n",
       "</div>"
      ],
      "text/plain": [
       "           country  Population mid-2018 (millions)  high-quality-percentage\n",
       "3473    Azerbaijan                             9.9                 0.558659\n",
       "10562         Fiji                             0.9                 0.507614\n",
       "21225    Lithuania                             2.8                 0.409836\n",
       "8785      Colombia                            49.8                 0.350877\n",
       "26415      Nigeria                           195.9                 0.295421\n",
       "29185         Peru                            32.2                 0.285714\n",
       "24385        Nepal                            29.7                 0.280112\n",
       "35857  Switzerland                             8.5                 0.248756\n",
       "36925     Tanzania                            59.1                 0.246914\n",
       "4085       Belgium                            11.4                 0.192308"
      ]
     },
     "execution_count": 58,
     "metadata": {},
     "output_type": "execute_result"
    }
   ],
   "source": [
    "bottom_10_high_quality"
   ]
  },
  {
   "cell_type": "code",
   "execution_count": 59,
   "metadata": {},
   "outputs": [
    {
     "data": {
      "image/png": "[encoded data removed]",
      "text/plain": [
       "<Figure size 720x720 with 2 Axes>"
      ]
     },
     "metadata": {},
     "output_type": "display_data"
    },
    {
     "data": {
      "image/png": "[encoded data removed]",
      "text/plain": [
       "<Figure size 720x720 with 2 Axes>"
      ]
     },
     "metadata": {},
     "output_type": "display_data"
    }
   ],
   "source": [
    "bottom_10_high_quality.plot.bar(x='country', y='high-quality-percentage', rot=45, subplots=True, layout=(2,1), figsize=(10,10))\n",
    "bottom_10_high_quality.plot.bar(x='country', y='Population mid-2018 (millions)', rot=45, subplots=True, layout=(2,1), figsize=(10,10))\n",
    "plt.show()"
   ]
  },
  {
   "cell_type": "markdown",
   "metadata": {},
   "source": [
    "### Table 5: Geographic regions by coverage: Ranking of geographic regions (in descending order) in terms of the total count of politician articles from countries in each region as a proportion of total regional population"
   ]
  },
  {
   "cell_type": "code",
   "execution_count": 60,
   "metadata": {},
   "outputs": [
    {
     "data": {
      "text/html": [
       "<div>\n",
       "<style scoped>\n",
       "    .dataframe tbody tr th:only-of-type {\n",
       "        vertical-align: middle;\n",
       "    }\n",
       "\n",
       "    .dataframe tbody tr th {\n",
       "        vertical-align: top;\n",
       "    }\n",
       "\n",
       "    .dataframe thead th {\n",
       "        text-align: right;\n",
       "    }\n",
       "</style>\n",
       "<table border=\"1\" class=\"dataframe\">\n",
       "  <thead>\n",
       "    <tr style=\"text-align: right;\">\n",
       "      <th></th>\n",
       "      <th>country</th>\n",
       "      <th>Population mid-2018 (millions)</th>\n",
       "      <th>articles-per-population-percentage</th>\n",
       "    </tr>\n",
       "  </thead>\n",
       "  <tbody>\n",
       "    <tr>\n",
       "      <th>189</th>\n",
       "      <td>OCEANIA</td>\n",
       "      <td>41.0</td>\n",
       "      <td>0.007629</td>\n",
       "    </tr>\n",
       "    <tr>\n",
       "      <th>144</th>\n",
       "      <td>EUROPE</td>\n",
       "      <td>746.0</td>\n",
       "      <td>0.002127</td>\n",
       "    </tr>\n",
       "    <tr>\n",
       "      <th>59</th>\n",
       "      <td>LATIN AMERICA AND THE CARIBBEAN</td>\n",
       "      <td>649.0</td>\n",
       "      <td>0.000796</td>\n",
       "    </tr>\n",
       "    <tr>\n",
       "      <th>0</th>\n",
       "      <td>AFRICA</td>\n",
       "      <td>1284.0</td>\n",
       "      <td>0.000534</td>\n",
       "    </tr>\n",
       "    <tr>\n",
       "      <th>56</th>\n",
       "      <td>NORTHERN AMERICA</td>\n",
       "      <td>365.0</td>\n",
       "      <td>0.000526</td>\n",
       "    </tr>\n",
       "    <tr>\n",
       "      <th>95</th>\n",
       "      <td>ASIA</td>\n",
       "      <td>4536.0</td>\n",
       "      <td>0.000254</td>\n",
       "    </tr>\n",
       "  </tbody>\n",
       "</table>\n",
       "</div>"
      ],
      "text/plain": [
       "                             country  Population mid-2018 (millions)  \\\n",
       "189                          OCEANIA                            41.0   \n",
       "144                           EUROPE                           746.0   \n",
       "59   LATIN AMERICA AND THE CARIBBEAN                           649.0   \n",
       "0                             AFRICA                          1284.0   \n",
       "56                  NORTHERN AMERICA                           365.0   \n",
       "95                              ASIA                          4536.0   \n",
       "\n",
       "     articles-per-population-percentage  \n",
       "189                            0.007629  \n",
       "144                            0.002127  \n",
       "59                             0.000796  \n",
       "0                              0.000534  \n",
       "56                             0.000526  \n",
       "95                             0.000254  "
      ]
     },
     "execution_count": 60,
     "metadata": {},
     "output_type": "execute_result"
    }
   ],
   "source": [
    "regional_top_art_pop = Geographic_Region.drop([\"high-quality-percentage\"], 1)\n",
    "regional_top_art_pop.sort_values('articles-per-population-percentage', ascending=False)"
   ]
  },
  {
   "cell_type": "code",
   "execution_count": 61,
   "metadata": {},
   "outputs": [
    {
     "data": {
      "image/png": "[encoded data removed]",
      "text/plain": [
       "<Figure size 720x720 with 2 Axes>"
      ]
     },
     "metadata": {},
     "output_type": "display_data"
    },
    {
     "data": {
      "image/png": "[encoded data removed]",
      "text/plain": [
       "<Figure size 720x720 with 2 Axes>"
      ]
     },
     "metadata": {},
     "output_type": "display_data"
    }
   ],
   "source": [
    "regional_top_art_pop.plot.bar(x='country', y='articles-per-population-percentage', rot=45, subplots=True, layout=(2,1), figsize=(10,10))\n",
    "regional_top_art_pop.plot.bar(x='country', y='Population mid-2018 (millions)', rot=45, subplots=True, layout=(2,1), figsize=(10,10))\n",
    "plt.show()"
   ]
  },
  {
   "cell_type": "markdown",
   "metadata": {},
   "source": [
    "### Table 6: Geographic regions by coverage: Ranking of geographic regions (in descending order) in terms of the relative proportion of politician articles from countries in each region that are of GA and FA-quality"
   ]
  },
  {
   "cell_type": "code",
   "execution_count": 63,
   "metadata": {},
   "outputs": [
    {
     "data": {
      "text/html": [
       "<div>\n",
       "<style scoped>\n",
       "    .dataframe tbody tr th:only-of-type {\n",
       "        vertical-align: middle;\n",
       "    }\n",
       "\n",
       "    .dataframe tbody tr th {\n",
       "        vertical-align: top;\n",
       "    }\n",
       "\n",
       "    .dataframe thead th {\n",
       "        text-align: right;\n",
       "    }\n",
       "</style>\n",
       "<table border=\"1\" class=\"dataframe\">\n",
       "  <thead>\n",
       "    <tr style=\"text-align: right;\">\n",
       "      <th></th>\n",
       "      <th>country</th>\n",
       "      <th>Population mid-2018 (millions)</th>\n",
       "      <th>high-quality-percentage</th>\n",
       "    </tr>\n",
       "  </thead>\n",
       "  <tbody>\n",
       "    <tr>\n",
       "      <th>56</th>\n",
       "      <td>NORTHERN AMERICA</td>\n",
       "      <td>365.0</td>\n",
       "      <td>0.268275</td>\n",
       "    </tr>\n",
       "    <tr>\n",
       "      <th>189</th>\n",
       "      <td>OCEANIA</td>\n",
       "      <td>41.0</td>\n",
       "      <td>0.067454</td>\n",
       "    </tr>\n",
       "    <tr>\n",
       "      <th>0</th>\n",
       "      <td>AFRICA</td>\n",
       "      <td>1284.0</td>\n",
       "      <td>0.026632</td>\n",
       "    </tr>\n",
       "    <tr>\n",
       "      <th>59</th>\n",
       "      <td>LATIN AMERICA AND THE CARIBBEAN</td>\n",
       "      <td>649.0</td>\n",
       "      <td>0.025825</td>\n",
       "    </tr>\n",
       "    <tr>\n",
       "      <th>95</th>\n",
       "      <td>ASIA</td>\n",
       "      <td>4536.0</td>\n",
       "      <td>0.023315</td>\n",
       "    </tr>\n",
       "    <tr>\n",
       "      <th>144</th>\n",
       "      <td>EUROPE</td>\n",
       "      <td>746.0</td>\n",
       "      <td>0.012795</td>\n",
       "    </tr>\n",
       "  </tbody>\n",
       "</table>\n",
       "</div>"
      ],
      "text/plain": [
       "                             country  Population mid-2018 (millions)  \\\n",
       "56                  NORTHERN AMERICA                           365.0   \n",
       "189                          OCEANIA                            41.0   \n",
       "0                             AFRICA                          1284.0   \n",
       "59   LATIN AMERICA AND THE CARIBBEAN                           649.0   \n",
       "95                              ASIA                          4536.0   \n",
       "144                           EUROPE                           746.0   \n",
       "\n",
       "     high-quality-percentage  \n",
       "56                  0.268275  \n",
       "189                 0.067454  \n",
       "0                   0.026632  \n",
       "59                  0.025825  \n",
       "95                  0.023315  \n",
       "144                 0.012795  "
      ]
     },
     "execution_count": 63,
     "metadata": {},
     "output_type": "execute_result"
    }
   ],
   "source": [
    "regional_high_quality = Geographic_Region.drop([\"articles-per-population-percentage\"], 1)\n",
    "regional_high_quality.sort_values('high-quality-percentage', ascending=False)"
   ]
  },
  {
   "cell_type": "code",
   "execution_count": 64,
   "metadata": {},
   "outputs": [
    {
     "data": {
      "image/png": "[encoded data removed]",
      "text/plain": [
       "<Figure size 720x720 with 2 Axes>"
      ]
     },
     "metadata": {},
     "output_type": "display_data"
    },
    {
     "data": {
      "image/png": "[encoded data removed]",
      "text/plain": [
       "<Figure size 720x720 with 2 Axes>"
      ]
     },
     "metadata": {},
     "output_type": "display_data"
    }
   ],
   "source": [
    "regional_high_quality.plot.bar(x='country', y='high-quality-percentage', rot=45, subplots=True, layout=(2,1), figsize=(10,10))\n",
    "regional_high_quality.plot.bar(x='country', y='Population mid-2018 (millions)', rot=45, subplots=True, layout=(2,1), figsize=(10,10))\n",
    "plt.show()"
   ]
  }
 ],
 "metadata": {
  "kernelspec": {
   "display_name": "Python 3",
   "language": "python",
   "name": "python3"
  },
  "language_info": {
   "codemirror_mode": {
    "name": "ipython",
    "version": 3
   },
   "file_extension": ".py",
   "mimetype": "text/x-python",
   "name": "python",
   "nbconvert_exporter": "python",
   "pygments_lexer": "ipython3",
   "version": "3.6.8"
  }
 },
 "nbformat": 4,
 "nbformat_minor": 2
}
